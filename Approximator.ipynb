{
 "cells": [
  {
   "cell_type": "code",
   "execution_count": 11,
   "metadata": {},
   "outputs": [],
   "source": [
    "from IPython.display import Markdown, display;\n",
    "import requests\n",
    "import pandas as pd\n",
    "import numpy as np\n",
    "import datetime\n",
    "import locale\n",
    "import math\n",
    "import matplotlib.pyplot as plt\n",
    "from matplotlib.pyplot import figure\n",
    "\n",
    "# CONFIGURE HERE:\n",
    "\n",
    "myLocale = \"en_US.utf8\"\n",
    "myReserveTime = 1657306697\n",
    "firstEuReserveTime = 1626454800\n",
    "myModel = '512GB';\n",
    "myRegion = 'UK';\n",
    "regressionDaysNumber = 7;\n",
    "regressionDegree = 1;\n",
    "fammysUrl = 'https://docs.google.com/spreadsheet/ccc?key=1ZaKncig9fce7K0sr1f-E2_sgLH1HuKQ-q3k7clPMOCs&output=csv';\n",
    "\n",
    "# END CONFIGURE"
   ]
  },
  {
   "cell_type": "code",
   "execution_count": 12,
   "metadata": {},
   "outputs": [
    {
     "data": {
      "text/markdown": [
       "Downloading CSV data from Fammy's sheet on Google Docs..."
      ],
      "text/plain": [
       "<IPython.core.display.Markdown object>"
      ]
     },
     "metadata": {},
     "output_type": "display_data"
    },
    {
     "data": {
      "text/markdown": [
       "**Done.**"
      ],
      "text/plain": [
       "<IPython.core.display.Markdown object>"
      ]
     },
     "metadata": {},
     "output_type": "display_data"
    }
   ],
   "source": [
    "display(Markdown(\"Downloading CSV data from Fammy's sheet on Google Docs...\"))\n",
    "\n",
    "response = requests.get(fammysUrl)\n",
    "assert response.status_code == 200, 'Wrong status code'\n",
    "\n",
    "csvFile = open(\".\\\\Fammy's Steam Deck order tracking - Current bests.csv\", \"wb\");\n",
    "csvFile.write(response.content);\n",
    "csvFile.close();\n",
    "\n",
    "display(Markdown(\"**Done.**\"))"
   ]
  },
  {
   "cell_type": "code",
   "execution_count": 13,
   "metadata": {},
   "outputs": [
    {
     "data": {
      "text/markdown": [
       "Loading CSV data..."
      ],
      "text/plain": [
       "<IPython.core.display.Markdown object>"
      ]
     },
     "metadata": {},
     "output_type": "display_data"
    },
    {
     "data": {
      "text/markdown": [
       "**Done**."
      ],
      "text/plain": [
       "<IPython.core.display.Markdown object>"
      ]
     },
     "metadata": {},
     "output_type": "display_data"
    },
    {
     "data": {
      "text/markdown": [
       "<hr />"
      ],
      "text/plain": [
       "<IPython.core.display.Markdown object>"
      ]
     },
     "metadata": {},
     "output_type": "display_data"
    },
    {
     "data": {
      "text/markdown": [
       "# Current bests:"
      ],
      "text/plain": [
       "<IPython.core.display.Markdown object>"
      ]
     },
     "metadata": {},
     "output_type": "display_data"
    },
    {
     "data": {
      "text/html": [
       "<div>\n",
       "<style scoped>\n",
       "    .dataframe tbody tr th:only-of-type {\n",
       "        vertical-align: middle;\n",
       "    }\n",
       "\n",
       "    .dataframe tbody tr th {\n",
       "        vertical-align: top;\n",
       "    }\n",
       "\n",
       "    .dataframe thead th {\n",
       "        text-align: right;\n",
       "    }\n",
       "</style>\n",
       "<table border=\"1\" class=\"dataframe\">\n",
       "  <thead>\n",
       "    <tr style=\"text-align: right;\">\n",
       "      <th></th>\n",
       "      <th>Email Batch</th>\n",
       "      <th>Model</th>\n",
       "      <th>Region</th>\n",
       "      <th>rtReserveTime</th>\n",
       "      <th>Elapsed Time</th>\n",
       "      <th>GMT Time</th>\n",
       "      <th>Diff from last batch</th>\n",
       "      <th>Source</th>\n",
       "      <th>Elapsed Time Formatted</th>\n",
       "      <th>Diff Formatted</th>\n",
       "      <th>Days until today</th>\n",
       "      <th>Days waited</th>\n",
       "      <th>Unnamed: 12</th>\n",
       "      <th>Unnamed: 13</th>\n",
       "      <th>rtReserveTime guess for next batch</th>\n",
       "      <th>Elapsed Guess</th>\n",
       "      <th>Guess off by, in seconds</th>\n",
       "      <th>% to my deck</th>\n",
       "      <th>Unnamed: 18</th>\n",
       "    </tr>\n",
       "  </thead>\n",
       "  <tbody>\n",
       "    <tr>\n",
       "      <th>396</th>\n",
       "      <td>8-Sep-2022</td>\n",
       "      <td>64GB</td>\n",
       "      <td>US</td>\n",
       "      <td>1652124420</td>\n",
       "      <td>7130:27:00</td>\n",
       "      <td>9-May-2022 19:27:00</td>\n",
       "      <td>667:35:00</td>\n",
       "      <td>https://www.reddit.com/r/SteamDeck/comments/x9...</td>\n",
       "      <td>297d 2h 27m</td>\n",
       "      <td>27d 19h 35m</td>\n",
       "      <td>124</td>\n",
       "      <td>121</td>\n",
       "      <td>NaN</td>\n",
       "      <td>NaN</td>\n",
       "      <td>NaN</td>\n",
       "      <td>NaN</td>\n",
       "      <td>NaN</td>\n",
       "      <td>NaN</td>\n",
       "      <td>NaN</td>\n",
       "    </tr>\n",
       "    <tr>\n",
       "      <th>397</th>\n",
       "      <td>8-Sep-2022</td>\n",
       "      <td>256GB</td>\n",
       "      <td>US</td>\n",
       "      <td>1649294769</td>\n",
       "      <td>6344:26:09</td>\n",
       "      <td>7-Apr-2022 01:26:09</td>\n",
       "      <td>747:37:39</td>\n",
       "      <td>https://www.reddit.com/r/SteamDeck/comments/x9...</td>\n",
       "      <td>264d 8h 26m</td>\n",
       "      <td>31d 3h 37m</td>\n",
       "      <td>156</td>\n",
       "      <td>153</td>\n",
       "      <td>NaN</td>\n",
       "      <td>NaN</td>\n",
       "      <td>NaN</td>\n",
       "      <td>NaN</td>\n",
       "      <td>NaN</td>\n",
       "      <td>NaN</td>\n",
       "      <td>NaN</td>\n",
       "    </tr>\n",
       "    <tr>\n",
       "      <th>398</th>\n",
       "      <td>8-Sep-2022</td>\n",
       "      <td>512GB</td>\n",
       "      <td>US</td>\n",
       "      <td>1647574544</td>\n",
       "      <td>5866:35:44</td>\n",
       "      <td>18-Mar-2022 03:35:44</td>\n",
       "      <td>455:38:44</td>\n",
       "      <td>https://www.reddit.com/r/SteamDeck/comments/x9...</td>\n",
       "      <td>244d 10h 35m</td>\n",
       "      <td>18d 23h 38m</td>\n",
       "      <td>176</td>\n",
       "      <td>173</td>\n",
       "      <td>NaN</td>\n",
       "      <td>NaN</td>\n",
       "      <td>NaN</td>\n",
       "      <td>NaN</td>\n",
       "      <td>NaN</td>\n",
       "      <td>NaN</td>\n",
       "      <td>NaN</td>\n",
       "    </tr>\n",
       "    <tr>\n",
       "      <th>399</th>\n",
       "      <td>8-Sep-2022</td>\n",
       "      <td>64GB</td>\n",
       "      <td>UK</td>\n",
       "      <td>1652565300</td>\n",
       "      <td>7252:55:00</td>\n",
       "      <td>14-May-2022 21:55:00</td>\n",
       "      <td>711:20:32</td>\n",
       "      <td>https://www.reddit.com/r/SteamDeck/comments/x9...</td>\n",
       "      <td>302d 4h 55m</td>\n",
       "      <td>29d 15h 20m</td>\n",
       "      <td>119</td>\n",
       "      <td>116</td>\n",
       "      <td>NaN</td>\n",
       "      <td>NaN</td>\n",
       "      <td>NaN</td>\n",
       "      <td>NaN</td>\n",
       "      <td>NaN</td>\n",
       "      <td>NaN</td>\n",
       "      <td>NaN</td>\n",
       "    </tr>\n",
       "    <tr>\n",
       "      <th>400</th>\n",
       "      <td>8-Sep-2022</td>\n",
       "      <td>256GB</td>\n",
       "      <td>UK</td>\n",
       "      <td>1648664634</td>\n",
       "      <td>6169:23:54</td>\n",
       "      <td>30-Mar-2022 18:23:54</td>\n",
       "      <td>651:54:54</td>\n",
       "      <td>https://www.reddit.com/r/SteamDeck/comments/x9...</td>\n",
       "      <td>257d 1h 23m</td>\n",
       "      <td>27d 3h 54m</td>\n",
       "      <td>164</td>\n",
       "      <td>161</td>\n",
       "      <td>NaN</td>\n",
       "      <td>NaN</td>\n",
       "      <td>NaN</td>\n",
       "      <td>NaN</td>\n",
       "      <td>NaN</td>\n",
       "      <td>NaN</td>\n",
       "      <td>NaN</td>\n",
       "    </tr>\n",
       "    <tr>\n",
       "      <th>401</th>\n",
       "      <td>8-Sep-2022</td>\n",
       "      <td>512GB</td>\n",
       "      <td>UK</td>\n",
       "      <td>1647701977</td>\n",
       "      <td>5901:59:37</td>\n",
       "      <td>19-Mar-2022 14:59:37</td>\n",
       "      <td>475:53:37</td>\n",
       "      <td>https://www.reddit.com/r/SteamDeck/comments/x9...</td>\n",
       "      <td>245d 21h 59m</td>\n",
       "      <td>19d 19h 53m</td>\n",
       "      <td>175</td>\n",
       "      <td>172</td>\n",
       "      <td>NaN</td>\n",
       "      <td>NaN</td>\n",
       "      <td>NaN</td>\n",
       "      <td>NaN</td>\n",
       "      <td>NaN</td>\n",
       "      <td>NaN</td>\n",
       "      <td>NaN</td>\n",
       "    </tr>\n",
       "    <tr>\n",
       "      <th>402</th>\n",
       "      <td>8-Sep-2022</td>\n",
       "      <td>64GB</td>\n",
       "      <td>EU</td>\n",
       "      <td>1650472140</td>\n",
       "      <td>6671:29:00</td>\n",
       "      <td>20-Apr-2022 16:29:00</td>\n",
       "      <td>31:30:13</td>\n",
       "      <td>https://www.reddit.com/r/SteamDeck/comments/x9...</td>\n",
       "      <td>277d 23h 29m</td>\n",
       "      <td>1d 7h 30m</td>\n",
       "      <td>143</td>\n",
       "      <td>140</td>\n",
       "      <td>NaN</td>\n",
       "      <td>NaN</td>\n",
       "      <td>NaN</td>\n",
       "      <td>NaN</td>\n",
       "      <td>NaN</td>\n",
       "      <td>NaN</td>\n",
       "      <td>NaN</td>\n",
       "    </tr>\n",
       "    <tr>\n",
       "      <th>403</th>\n",
       "      <td>8-Sep-2022</td>\n",
       "      <td>256GB</td>\n",
       "      <td>EU</td>\n",
       "      <td>1650026282</td>\n",
       "      <td>6547:38:02</td>\n",
       "      <td>15-Apr-2022 12:38:02</td>\n",
       "      <td>759:17:02</td>\n",
       "      <td>https://www.reddit.com/r/SteamDeck/comments/x9...</td>\n",
       "      <td>272d 19h 38m</td>\n",
       "      <td>31d 15h 17m</td>\n",
       "      <td>148</td>\n",
       "      <td>145</td>\n",
       "      <td>NaN</td>\n",
       "      <td>NaN</td>\n",
       "      <td>NaN</td>\n",
       "      <td>NaN</td>\n",
       "      <td>NaN</td>\n",
       "      <td>NaN</td>\n",
       "      <td>NaN</td>\n",
       "    </tr>\n",
       "    <tr>\n",
       "      <th>404</th>\n",
       "      <td>8-Sep-2022</td>\n",
       "      <td>512GB</td>\n",
       "      <td>EU</td>\n",
       "      <td>1648841398</td>\n",
       "      <td>6218:29:58</td>\n",
       "      <td>1-Apr-2022 19:29:58</td>\n",
       "      <td>670:32:28</td>\n",
       "      <td>https://www.reddit.com/r/SteamDeck/comments/wj...</td>\n",
       "      <td>259d 2h 29m</td>\n",
       "      <td>27d 22h 32m</td>\n",
       "      <td>162</td>\n",
       "      <td>159</td>\n",
       "      <td>NaN</td>\n",
       "      <td>NaN</td>\n",
       "      <td>NaN</td>\n",
       "      <td>NaN</td>\n",
       "      <td>NaN</td>\n",
       "      <td>NaN</td>\n",
       "      <td>NaN</td>\n",
       "    </tr>\n",
       "  </tbody>\n",
       "</table>\n",
       "</div>"
      ],
      "text/plain": [
       "    Email Batch  Model Region  rtReserveTime Elapsed Time  \\\n",
       "396  8-Sep-2022   64GB     US     1652124420   7130:27:00   \n",
       "397  8-Sep-2022  256GB     US     1649294769   6344:26:09   \n",
       "398  8-Sep-2022  512GB     US     1647574544   5866:35:44   \n",
       "399  8-Sep-2022   64GB     UK     1652565300   7252:55:00   \n",
       "400  8-Sep-2022  256GB     UK     1648664634   6169:23:54   \n",
       "401  8-Sep-2022  512GB     UK     1647701977   5901:59:37   \n",
       "402  8-Sep-2022   64GB     EU     1650472140   6671:29:00   \n",
       "403  8-Sep-2022  256GB     EU     1650026282   6547:38:02   \n",
       "404  8-Sep-2022  512GB     EU     1648841398   6218:29:58   \n",
       "\n",
       "                 GMT Time Diff from last batch  \\\n",
       "396   9-May-2022 19:27:00            667:35:00   \n",
       "397   7-Apr-2022 01:26:09            747:37:39   \n",
       "398  18-Mar-2022 03:35:44            455:38:44   \n",
       "399  14-May-2022 21:55:00            711:20:32   \n",
       "400  30-Mar-2022 18:23:54            651:54:54   \n",
       "401  19-Mar-2022 14:59:37            475:53:37   \n",
       "402  20-Apr-2022 16:29:00             31:30:13   \n",
       "403  15-Apr-2022 12:38:02            759:17:02   \n",
       "404   1-Apr-2022 19:29:58            670:32:28   \n",
       "\n",
       "                                                Source Elapsed Time Formatted  \\\n",
       "396  https://www.reddit.com/r/SteamDeck/comments/x9...            297d 2h 27m   \n",
       "397  https://www.reddit.com/r/SteamDeck/comments/x9...            264d 8h 26m   \n",
       "398  https://www.reddit.com/r/SteamDeck/comments/x9...           244d 10h 35m   \n",
       "399  https://www.reddit.com/r/SteamDeck/comments/x9...            302d 4h 55m   \n",
       "400  https://www.reddit.com/r/SteamDeck/comments/x9...            257d 1h 23m   \n",
       "401  https://www.reddit.com/r/SteamDeck/comments/x9...           245d 21h 59m   \n",
       "402  https://www.reddit.com/r/SteamDeck/comments/x9...           277d 23h 29m   \n",
       "403  https://www.reddit.com/r/SteamDeck/comments/x9...           272d 19h 38m   \n",
       "404  https://www.reddit.com/r/SteamDeck/comments/wj...            259d 2h 29m   \n",
       "\n",
       "    Diff Formatted  Days until today  Days waited  Unnamed: 12  Unnamed: 13  \\\n",
       "396    27d 19h 35m               124          121          NaN          NaN   \n",
       "397     31d 3h 37m               156          153          NaN          NaN   \n",
       "398    18d 23h 38m               176          173          NaN          NaN   \n",
       "399    29d 15h 20m               119          116          NaN          NaN   \n",
       "400     27d 3h 54m               164          161          NaN          NaN   \n",
       "401    19d 19h 53m               175          172          NaN          NaN   \n",
       "402      1d 7h 30m               143          140          NaN          NaN   \n",
       "403    31d 15h 17m               148          145          NaN          NaN   \n",
       "404    27d 22h 32m               162          159          NaN          NaN   \n",
       "\n",
       "    rtReserveTime guess for next batch Elapsed Guess Guess off by, in seconds  \\\n",
       "396                                NaN           NaN                      NaN   \n",
       "397                                NaN           NaN                      NaN   \n",
       "398                                NaN           NaN                      NaN   \n",
       "399                                NaN           NaN                      NaN   \n",
       "400                                NaN           NaN                      NaN   \n",
       "401                                NaN           NaN                      NaN   \n",
       "402                                NaN           NaN                      NaN   \n",
       "403                                NaN           NaN                      NaN   \n",
       "404                                NaN           NaN                      NaN   \n",
       "\n",
       "    % to my deck Unnamed: 18  \n",
       "396          NaN         NaN  \n",
       "397          NaN         NaN  \n",
       "398          NaN         NaN  \n",
       "399          NaN         NaN  \n",
       "400          NaN         NaN  \n",
       "401          NaN         NaN  \n",
       "402          NaN         NaN  \n",
       "403          NaN         NaN  \n",
       "404          NaN         NaN  "
      ]
     },
     "execution_count": 13,
     "metadata": {},
     "output_type": "execute_result"
    }
   ],
   "source": [
    "display(Markdown(\"Loading CSV data...\"))\n",
    "\n",
    "locale.setlocale(locale.LC_ALL, myLocale)\n",
    "\n",
    "# Load data\n",
    "df = pd.read_csv('Fammy\\'s Steam Deck order tracking - Current bests.csv', sep = ',')\n",
    "\n",
    "display(Markdown(\"**Done**.\"))\n",
    "\n",
    "display(Markdown(\"<hr />\"))\n",
    "display(Markdown(\"# Current bests:\"))\n",
    "\n",
    "df.tail(9)"
   ]
  },
  {
   "cell_type": "code",
   "execution_count": 14,
   "metadata": {},
   "outputs": [
    {
     "data": {
      "text/markdown": [
       "Sanitizing data..."
      ],
      "text/plain": [
       "<IPython.core.display.Markdown object>"
      ]
     },
     "metadata": {},
     "output_type": "display_data"
    },
    {
     "data": {
      "text/markdown": [
       "**Done.**"
      ],
      "text/plain": [
       "<IPython.core.display.Markdown object>"
      ]
     },
     "metadata": {},
     "output_type": "display_data"
    },
    {
     "data": {
      "text/markdown": [
       "<hr />"
      ],
      "text/plain": [
       "<IPython.core.display.Markdown object>"
      ]
     },
     "metadata": {},
     "output_type": "display_data"
    },
    {
     "data": {
      "text/markdown": [
       "# Last email batches for my unit (512GB, UK)"
      ],
      "text/plain": [
       "<IPython.core.display.Markdown object>"
      ]
     },
     "metadata": {},
     "output_type": "display_data"
    },
    {
     "data": {
      "text/html": [
       "<div>\n",
       "<style scoped>\n",
       "    .dataframe tbody tr th:only-of-type {\n",
       "        vertical-align: middle;\n",
       "    }\n",
       "\n",
       "    .dataframe tbody tr th {\n",
       "        vertical-align: top;\n",
       "    }\n",
       "\n",
       "    .dataframe thead th {\n",
       "        text-align: right;\n",
       "    }\n",
       "</style>\n",
       "<table border=\"1\" class=\"dataframe\">\n",
       "  <thead>\n",
       "    <tr style=\"text-align: right;\">\n",
       "      <th></th>\n",
       "      <th>Email Batch</th>\n",
       "      <th>Email Batch Timestamp</th>\n",
       "      <th>GMT Time</th>\n",
       "      <th>rtReserveTime</th>\n",
       "      <th>MyRtReserveTime</th>\n",
       "      <th>myPercentage</th>\n",
       "    </tr>\n",
       "  </thead>\n",
       "  <tbody>\n",
       "    <tr>\n",
       "      <th>320</th>\n",
       "      <td>8-Aug-2022</td>\n",
       "      <td>1659909600</td>\n",
       "      <td>29-Jul-2021 13:29:00</td>\n",
       "      <td>1627565340</td>\n",
       "      <td>1657306697</td>\n",
       "      <td>0.035996</td>\n",
       "    </tr>\n",
       "    <tr>\n",
       "      <th>329</th>\n",
       "      <td>11-Aug-2022</td>\n",
       "      <td>1660168800</td>\n",
       "      <td>7-Aug-2021 10:46:41</td>\n",
       "      <td>1628333201</td>\n",
       "      <td>1657306697</td>\n",
       "      <td>0.060884</td>\n",
       "    </tr>\n",
       "    <tr>\n",
       "      <th>338</th>\n",
       "      <td>15-Aug-2022</td>\n",
       "      <td>1660514400</td>\n",
       "      <td>14-Aug-2021 16:17:00</td>\n",
       "      <td>1628957820</td>\n",
       "      <td>1657306697</td>\n",
       "      <td>0.081130</td>\n",
       "    </tr>\n",
       "    <tr>\n",
       "      <th>347</th>\n",
       "      <td>18-Aug-2022</td>\n",
       "      <td>1660773600</td>\n",
       "      <td>13-Sep-2021 09:58:00</td>\n",
       "      <td>1631527080</td>\n",
       "      <td>1657306697</td>\n",
       "      <td>0.164407</td>\n",
       "    </tr>\n",
       "    <tr>\n",
       "      <th>356</th>\n",
       "      <td>22-Aug-2022</td>\n",
       "      <td>1661119200</td>\n",
       "      <td>17-Oct-2021 08:06:21</td>\n",
       "      <td>1634457981</td>\n",
       "      <td>1657306697</td>\n",
       "      <td>0.259406</td>\n",
       "    </tr>\n",
       "    <tr>\n",
       "      <th>365</th>\n",
       "      <td>25-Aug-2022</td>\n",
       "      <td>1661378400</td>\n",
       "      <td>2-Dec-2021 16:22:27</td>\n",
       "      <td>1638462147</td>\n",
       "      <td>1657306697</td>\n",
       "      <td>0.389193</td>\n",
       "    </tr>\n",
       "    <tr>\n",
       "      <th>374</th>\n",
       "      <td>29-Aug-2022</td>\n",
       "      <td>1661724000</td>\n",
       "      <td>14-Jan-2022 15:19:41</td>\n",
       "      <td>1642173581</td>\n",
       "      <td>1657306697</td>\n",
       "      <td>0.509492</td>\n",
       "    </tr>\n",
       "    <tr>\n",
       "      <th>383</th>\n",
       "      <td>1-Sep-2022</td>\n",
       "      <td>1661983200</td>\n",
       "      <td>9-Feb-2022 10:42:27</td>\n",
       "      <td>1644403347</td>\n",
       "      <td>1657306697</td>\n",
       "      <td>0.581765</td>\n",
       "    </tr>\n",
       "    <tr>\n",
       "      <th>392</th>\n",
       "      <td>5-Sep-2022</td>\n",
       "      <td>1662328800</td>\n",
       "      <td>27-Feb-2022 19:06:00</td>\n",
       "      <td>1645988760</td>\n",
       "      <td>1657306697</td>\n",
       "      <td>0.633153</td>\n",
       "    </tr>\n",
       "    <tr>\n",
       "      <th>401</th>\n",
       "      <td>8-Sep-2022</td>\n",
       "      <td>1662588000</td>\n",
       "      <td>19-Mar-2022 14:59:37</td>\n",
       "      <td>1647701977</td>\n",
       "      <td>1657306697</td>\n",
       "      <td>0.688683</td>\n",
       "    </tr>\n",
       "  </tbody>\n",
       "</table>\n",
       "</div>"
      ],
      "text/plain": [
       "     Email Batch  Email Batch Timestamp              GMT Time  rtReserveTime  \\\n",
       "320   8-Aug-2022             1659909600  29-Jul-2021 13:29:00     1627565340   \n",
       "329  11-Aug-2022             1660168800   7-Aug-2021 10:46:41     1628333201   \n",
       "338  15-Aug-2022             1660514400  14-Aug-2021 16:17:00     1628957820   \n",
       "347  18-Aug-2022             1660773600  13-Sep-2021 09:58:00     1631527080   \n",
       "356  22-Aug-2022             1661119200  17-Oct-2021 08:06:21     1634457981   \n",
       "365  25-Aug-2022             1661378400   2-Dec-2021 16:22:27     1638462147   \n",
       "374  29-Aug-2022             1661724000  14-Jan-2022 15:19:41     1642173581   \n",
       "383   1-Sep-2022             1661983200   9-Feb-2022 10:42:27     1644403347   \n",
       "392   5-Sep-2022             1662328800  27-Feb-2022 19:06:00     1645988760   \n",
       "401   8-Sep-2022             1662588000  19-Mar-2022 14:59:37     1647701977   \n",
       "\n",
       "     MyRtReserveTime  myPercentage  \n",
       "320       1657306697      0.035996  \n",
       "329       1657306697      0.060884  \n",
       "338       1657306697      0.081130  \n",
       "347       1657306697      0.164407  \n",
       "356       1657306697      0.259406  \n",
       "365       1657306697      0.389193  \n",
       "374       1657306697      0.509492  \n",
       "383       1657306697      0.581765  \n",
       "392       1657306697      0.633153  \n",
       "401       1657306697      0.688683  "
      ]
     },
     "execution_count": 14,
     "metadata": {},
     "output_type": "execute_result"
    }
   ],
   "source": [
    "# Sanitize data\n",
    "\n",
    "display(Markdown(\"Sanitizing data...\"))\n",
    "\n",
    "df['Email Batch Date'] = df['Email Batch'].apply(lambda x : datetime.datetime.strptime(x, \"%d-%b-%Y\") if isinstance(x, str) else None)\n",
    "df['Email Batch Timestamp'] = df['Email Batch'].apply(lambda x : int(datetime.datetime.strptime(x, \"%d-%b-%Y\").timestamp()) if isinstance(x, str) else None)\n",
    "df['rtReserveTime'] = df['rtReserveTime'].apply(lambda x : int(x) if (isinstance(x, float) and not math.isnan(x)) or isinstance(x, int) else None)\n",
    "\n",
    "df = df[['Email Batch', 'Email Batch Timestamp', 'GMT Time', 'Model', 'Region', 'rtReserveTime']]\n",
    "\n",
    "df = df[df['Model'] == myModel]\n",
    "df = df[df['Region'] == myRegion]\n",
    "\n",
    "df['MyRtReserveTime'] = myReserveTime\n",
    "df['myPercentage'] = (df['rtReserveTime'] - firstEuReserveTime) / (myReserveTime - firstEuReserveTime)\n",
    "\n",
    "display(Markdown(\"**Done.**\"))\n",
    "\n",
    "display(Markdown(\"<hr />\"))\n",
    "display(Markdown(\"# Last email batches for my unit (\" + myModel + \", \" + myRegion + \")\"))\n",
    "\n",
    "df[['Email Batch', 'Email Batch Timestamp', 'GMT Time', 'rtReserveTime', 'MyRtReserveTime', 'myPercentage']].tail(10)"
   ]
  },
  {
   "cell_type": "code",
   "execution_count": 15,
   "metadata": {},
   "outputs": [
    {
     "data": {
      "text/markdown": [
       "<hr />"
      ],
      "text/plain": [
       "<IPython.core.display.Markdown object>"
      ]
     },
     "metadata": {},
     "output_type": "display_data"
    },
    {
     "data": {
      "text/markdown": [
       "# My percentage chart"
      ],
      "text/plain": [
       "<IPython.core.display.Markdown object>"
      ]
     },
     "metadata": {},
     "output_type": "display_data"
    },
    {
     "data": {
      "text/plain": [
       "[<matplotlib.lines.Line2D at 0x26018d97640>]"
      ]
     },
     "execution_count": 15,
     "metadata": {},
     "output_type": "execute_result"
    },
    {
     "data": {
      "image/png": "[encoded data removed]",
      "text/plain": [
       "<Figure size 2000x640 with 1 Axes>"
      ]
     },
     "metadata": {
      "needs_background": "light"
     },
     "output_type": "display_data"
    }
   ],
   "source": [
    "display(Markdown(\"<hr />\"))\n",
    "display(Markdown(\"# My percentage chart\"))\n",
    "\n",
    "figure(figsize=(25, 8), dpi=80)\n",
    "plt.plot(df['Email Batch'], df['myPercentage'] * 100)\n"
   ]
  },
  {
   "cell_type": "code",
   "execution_count": 21,
   "metadata": {},
   "outputs": [
    {
     "data": {
      "text/markdown": [
       "<hr />"
      ],
      "text/plain": [
       "<IPython.core.display.Markdown object>"
      ]
     },
     "metadata": {},
     "output_type": "display_data"
    },
    {
     "data": {
      "text/markdown": [
       "# My progress, trend and goal"
      ],
      "text/plain": [
       "<IPython.core.display.Markdown object>"
      ]
     },
     "metadata": {},
     "output_type": "display_data"
    },
    {
     "data": {
      "text/plain": [
       "[<matplotlib.lines.Line2D at 0x26018fa0e80>]"
      ]
     },
     "execution_count": 21,
     "metadata": {},
     "output_type": "execute_result"
    },
    {
     "data": {
      "image/png": "[encoded data removed]",
      "text/plain": [
       "<Figure size 1280x640 with 1 Axes>"
      ]
     },
     "metadata": {
      "needs_background": "light"
     },
     "output_type": "display_data"
    }
   ],
   "source": [
    "display(Markdown(\"<hr />\"))\n",
    "display(Markdown(\"# My progress, trend and goal\"))\n",
    "\n",
    "fit =  np.polyfit(df['Email Batch Timestamp'].tail(regressionDaysNumber), df['rtReserveTime'].tail(regressionDaysNumber), regressionDegree)\n",
    "model = np.poly1d(fit)\n",
    "\n",
    "\n",
    "pdf = pd.DataFrame()\n",
    "pdf['Timestamp'] = df['Email Batch Timestamp']\n",
    "pdf['Original'] = df['rtReserveTime']\n",
    "pdf['Prediction'] = pdf['Timestamp'].tail(regressionDaysNumber).apply(lambda x : model(x))\n",
    "pdf['My'] = myReserveTime\n",
    "\n",
    "figure(figsize=(16, 8), dpi=80)\n",
    "plt.plot(pdf['Timestamp'], pdf['Prediction'])\n",
    "plt.plot(pdf['Timestamp'], pdf['Original'])\n",
    "plt.plot(pdf['Timestamp'], pdf['My'])"
   ]
  },
  {
   "cell_type": "code",
   "execution_count": 22,
   "metadata": {},
   "outputs": [
    {
     "data": {
      "text/markdown": [
       "<hr />"
      ],
      "text/plain": [
       "<IPython.core.display.Markdown object>"
      ]
     },
     "metadata": {},
     "output_type": "display_data"
    },
    {
     "data": {
      "text/markdown": [
       "# My estimation for order email"
      ],
      "text/plain": [
       "<IPython.core.display.Markdown object>"
      ]
     },
     "metadata": {},
     "output_type": "display_data"
    },
    {
     "data": {
      "text/markdown": [
       "Current estimation is **18-09-2022**"
      ],
      "text/plain": [
       "<IPython.core.display.Markdown object>"
      ]
     },
     "metadata": {},
     "output_type": "display_data"
    }
   ],
   "source": [
    "display(Markdown(\"<hr />\"))\n",
    "display(Markdown(\"# My estimation for order email\"))\n",
    "\n",
    "roots = (model - myReserveTime).roots\n",
    "root = int(roots[0])\n",
    "est = datetime.datetime.fromtimestamp(root)\n",
    "\n",
    "display(Markdown(\"Current estimation is **\" + '%02i' % est.day + \"-\" + '%02i' % est.month + \"-\" + '%04i' % int(est.year) + \"**\"))"
   ]
  },
  {
   "cell_type": "code",
   "execution_count": 18,
   "metadata": {},
   "outputs": [
    {
     "data": {
      "text/markdown": [
       "<hr />"
      ],
      "text/plain": [
       "<IPython.core.display.Markdown object>"
      ]
     },
     "metadata": {},
     "output_type": "display_data"
    },
    {
     "data": {
      "text/markdown": [
       "# Full history of my percentage"
      ],
      "text/plain": [
       "<IPython.core.display.Markdown object>"
      ]
     },
     "metadata": {},
     "output_type": "display_data"
    },
    {
     "data": {
      "text/plain": [
       "5       0.001504\n",
       "14      0.002081\n",
       "23      0.002334\n",
       "32      0.002441\n",
       "41      0.002583\n",
       "50      0.002655\n",
       "59      0.002752\n",
       "68      0.002898\n",
       "77      0.003128\n",
       "86      0.003468\n",
       "95      0.003539\n",
       "104     0.003617\n",
       "113     0.003880\n",
       "122     0.004343\n",
       "131     0.004492\n",
       "140     0.004924\n",
       "149     0.004995\n",
       "158     0.005552\n",
       "167     0.006139\n",
       "176     0.006227\n",
       "185     0.007089\n",
       "194     0.008042\n",
       "203     0.008081\n",
       "212     0.008106\n",
       "221     0.016550\n",
       "230     0.029366\n",
       "239     0.038552\n",
       "248     0.054755\n",
       "257     0.096992\n",
       "266     0.204516\n",
       "275     0.302727\n",
       "284     0.519644\n",
       "293     0.780030\n",
       "302     1.154227\n",
       "311     1.941663\n",
       "320     3.599584\n",
       "329     6.088446\n",
       "338     8.113018\n",
       "347    16.440739\n",
       "356    25.940645\n",
       "365    38.919315\n",
       "374    50.949156\n",
       "383    58.176478\n",
       "392    63.315264\n",
       "401    68.868300\n",
       "Name: myPercentage, dtype: float64"
      ]
     },
     "execution_count": 18,
     "metadata": {},
     "output_type": "execute_result"
    }
   ],
   "source": [
    "display(Markdown(\"<hr />\"))\n",
    "display(Markdown(\"# Full history of my percentage\"))\n",
    "\n",
    "df['myPercentage'] * 100"
   ]
  }
 ],
 "metadata": {
  "interpreter": {
   "hash": "11938c6bc6919ae2720b4d5011047913343b08a43b18698fd82dedb0d4417594"
  },
  "kernelspec": {
   "display_name": "Python 3.9.13 64-bit",
   "language": "python",
   "name": "python3"
  },
  "language_info": {
   "codemirror_mode": {
    "name": "ipython",
    "version": 3
   },
   "file_extension": ".py",
   "mimetype": "text/x-python",
   "name": "python",
   "nbconvert_exporter": "python",
   "pygments_lexer": "ipython3",
   "version": "3.9.13"
  },
  "orig_nbformat": 4,
  "vscode": {
   "interpreter": {
    "hash": "11938c6bc6919ae2720b4d5011047913343b08a43b18698fd82dedb0d4417594"
   }
  }
 },
 "nbformat": 4,
 "nbformat_minor": 2
}
